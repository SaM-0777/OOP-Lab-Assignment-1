{
  "nbformat": 4,
  "nbformat_minor": 0,
  "metadata": {
    "colab": {
      "name": "Assignment1.ipynb",
      "provenance": [],
      "collapsed_sections": [],
      "mount_file_id": "10vBKw-BnIkg2EBoa5YzwbxsLYm-vk5Ng",
      "authorship_tag": "ABX9TyP+Uqe5KLprBDdTqVX0N8Cb",
      "include_colab_link": true
    },
    "kernelspec": {
      "name": "python3",
      "display_name": "Python 3"
    },
    "language_info": {
      "name": "python"
    }
  },
  "cells": [
    {
      "cell_type": "markdown",
      "metadata": {
        "id": "view-in-github",
        "colab_type": "text"
      },
      "source": [
        "<a href=\"https://colab.research.google.com/github/Soumyaranjan2021/OOP-Lab-Assignment-1/blob/main/Assignment1.ipynb\" target=\"_parent\"><img src=\"https://colab.research.google.com/assets/colab-badge.svg\" alt=\"Open In Colab\"/></a>"
      ]
    },
    {
      "cell_type": "code",
      "metadata": {
        "colab": {
          "base_uri": "https://localhost:8080/"
        },
        "id": "znyhPumW7fKb",
        "outputId": "1f82030a-90c5-4b9f-88f2-24a497ded441"
      },
      "source": [
        "##Problem 1\n",
        "\n",
        "def Leapyear(year):\n",
        "  if year % 4 == 0 and year % 100 != 0 and year % 400 == 0:\n",
        "    return True\n",
        "  if year % 4 == 0 or year % 400 == 0:\n",
        "    return True\n",
        "  else:\n",
        "    return False\n",
        "\n",
        "year = int(input(\"Year : \"))\n",
        "print(\"{0} is Leapyear : {1}\".format(year, Leapyear(year)))"
      ],
      "execution_count": null,
      "outputs": [
        {
          "output_type": "stream",
          "name": "stdout",
          "text": [
            "Year : 2016\n",
            "2016 is Leapyear : True\n"
          ]
        }
      ]
    },
    {
      "cell_type": "code",
      "metadata": {
        "colab": {
          "base_uri": "https://localhost:8080/"
        },
        "id": "w74NgTQXnQYs",
        "outputId": "2e89d938-cd95-45ba-a5f8-3f53df606df1"
      },
      "source": [
        "##Problem 2\n",
        "\n",
        "def Weired(N):\n",
        "  if N % 2 == 0:\n",
        "    if N in range(2, 5 + 1):\n",
        "      print(\"Not Weired\")\n",
        "    elif N in range(6, 20 + 1):\n",
        "      print(\"Weired\")\n",
        "    else:\n",
        "      print(\"Not Weired\")\n",
        "  else:\n",
        "    print(\"Weired\")\n",
        "\n",
        "N = int(input(\"Enter N : \"))\n",
        "Weired(N)"
      ],
      "execution_count": 13,
      "outputs": [
        {
          "output_type": "stream",
          "name": "stdout",
          "text": [
            "Enter N : 17\n",
            "Weired\n"
          ]
        }
      ]
    },
    {
      "cell_type": "code",
      "metadata": {
        "colab": {
          "base_uri": "https://localhost:8080/"
        },
        "id": "DT9G_xFIohf2",
        "outputId": "3cceefee-fa84-426c-b05d-c14356e1efbf"
      },
      "source": [
        "##Problem 3\n",
        "def Latecomers(Guests, Name):\n",
        "  mid = len(Guests) // 2\n",
        "  if Name in Guests[mid : len(Guests) - 1]:\n",
        "    print(\"{0} is Fashionably late\".format(Name))\n",
        "    return\n",
        "  else:\n",
        "    print(\"{0} is not Fashionably late\".format(Name))\n",
        "  return\n",
        "\n",
        "Arrival = [\"Hardik\", \"Rahul\", \"Virat\", \"Rishabh\", \"Mahi\", \"Rohit\", \"Rahane\"]\n",
        "N = str(input(\"Enter Name : \"))\n",
        "Latecomers(Arrival, N)"
      ],
      "execution_count": null,
      "outputs": [
        {
          "output_type": "stream",
          "name": "stdout",
          "text": [
            "Enter Name : Rohit\n",
            "Rohit is Fashionably late\n"
          ]
        }
      ]
    },
    {
      "cell_type": "code",
      "metadata": {
        "id": "gMBnTQ5cUsfB",
        "colab": {
          "base_uri": "https://localhost:8080/"
        },
        "outputId": "4f242767-cf30-4d17-8611-4951b5d1340a"
      },
      "source": [
        "##Problem 4\n",
        "def FilterArticle(list, keyword):\n",
        "  status = False\n",
        "  for i in list:\n",
        "    temp = i.split()\n",
        "    if keyword in temp or keyword.capitalize() in temp or keyword.upper() in temp or keyword.lower() in temp:\n",
        "      print(i)\n",
        "      status = True\n",
        "      continue\n",
        "  if status == False:\n",
        "    print(\"No Results Found!\")\n",
        "  \n",
        "\n",
        "doc_list = [\"The Learn Python Challange Rohit.\", \"They bought a car\", \"bangalore\"]\n",
        "keyword = str(input(\"Enter Keyword to Search for Article : \"))\n",
        "FilterArticle(doc_list, keyword)"
      ],
      "execution_count": 12,
      "outputs": [
        {
          "output_type": "stream",
          "name": "stdout",
          "text": [
            "Enter Keyword to Search for Article : Python\n",
            "The Learn Python Challange Rohit.\n"
          ]
        }
      ]
    },
    {
      "cell_type": "code",
      "metadata": {
        "id": "uylUc6PRq_VY",
        "colab": {
          "base_uri": "https://localhost:8080/"
        },
        "outputId": "7ffd7774-4223-4157-ec88-9c2c40c3ba39"
      },
      "source": [
        "##Problem 5\n",
        "\n",
        "def GrossPay(BP):\n",
        "  return BP + 0.4 * BP + 0.2 * BP\n",
        "\n",
        "BP = float(input(\"Enter Basic Pay : \"))\n",
        "print(\"Gross Pay : \", float(GrossPay(BP)))"
      ],
      "execution_count": null,
      "outputs": [
        {
          "output_type": "stream",
          "name": "stdout",
          "text": [
            "Enter Basic Pay : 20000\n",
            "Gross Pay :  32000.0\n"
          ]
        }
      ]
    }
  ]
}